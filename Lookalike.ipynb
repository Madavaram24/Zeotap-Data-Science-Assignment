import numpy as np
import matplotlib.pyplot as plt
import seaborn as sns

# Sample Data: Recommendation counts (20x20 matrix)
np.random.seed(42)  # For reproducibility
customer_ids = [f'C{str(i).zfill(4)}' for i in range(1, 21)]
recommendation_matrix = np.random.rand(20, 20)  # Random values for similarity (0 to 1)
recommendation_matrix = np.triu(recommendation_matrix)  # Upper triangular for visualization
np.fill_diagonal(recommendation_matrix, 0)  # Remove self-recommendation

# Plotting the heatmap
plt.figure(figsize=(10, 8))
sns.heatmap(recommendation_matrix, annot=False, fmt=".1f", cmap="Blues", cbar=True, xticklabels=customer_ids, yticklabels=customer_ids)
plt.title("Heatmap of Recommendation Counts Between Customers", fontsize=16)
plt.xlabel("Recommended CustomerID", fontsize=12)
plt.ylabel("CustomerID", fontsize=12)
plt.tight_layout()

# Display the heatmap
plt.show()
