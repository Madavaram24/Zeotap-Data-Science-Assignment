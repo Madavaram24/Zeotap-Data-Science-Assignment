import pandas as pd
import matplotlib.pyplot as plt
import seaborn as sns

# Sample data preparation (replace these with your actual dataframes)
# Ensure that these variables contain the necessary data from your processing
transactions_df = pd.read_csv('/mnt/data/Transactions.csv')
customers_df = pd.read_csv('/mnt/data/Customers.csv')
products_df = pd.read_csv('/mnt/data/Products.csv')

# 1. Transaction Trends Over Years
transactions_df['TransactionDate'] = pd.to_datetime(transactions_df['TransactionDate'])
transactions_df['Year'] = transactions_df['TransactionDate'].dt.year
transaction_trends = transactions_df.groupby('Year').size()

plt.figure(figsize=(8, 6))
plt.plot(transaction_trends.index, transaction_trends.values, marker='o', color='red')
plt.title('Transaction Trends Over Years')
plt.xlabel('Year')
plt.ylabel('Number of Transactions')
plt.grid()
plt.show()

# 2. Product Sales Distribution by Region
merged_df = transactions_df.merge(customers_df, on='CustomerID').merge(products_df, on='ProductID')
sales_by_region = merged_df.groupby('Region')['TotalValue'].sum()

plt.figure(figsize=(10, 6))
sns.boxplot(x='Region', y='TotalValue', data=merged_df)
plt.title('Product Sales Distribution by Region')
plt.xlabel('Region')
plt.ylabel('Total Sales Value')
plt.grid()
plt.show()

# 3. Top 5 Products by Sales Quantity
top_products = merged_df.groupby('ProductName')['Quantity'].sum().nlargest(5)

plt.figure(figsize=(10, 6))
top_products.plot(kind='bar', color='orange')
plt.title('Top 5 Products by Sales Quantity')
plt.xlabel('Product Name')
plt.ylabel('Total Quantity Sold')
plt.grid()
plt.xticks(rotation=45)
plt.show()

# 4. Signup Distribution by Year
customers_df['SignupDate'] = pd.to_datetime(customers_df['SignupDate'])
customers_df['SignupYear'] = customers_df['SignupDate'].dt.year
signup_distribution = customers_df.groupby('SignupYear').size()

plt.figure(figsize=(8, 6))
sns.barplot(x=signup_distribution.index, y=signup_distribution.values, palette='pastel')
plt.title('Signup Distribution by Year')
plt.xlabel('Year')
plt.ylabel('Number of Signups')
plt.grid()
plt.show()

# 5. Price Distribution of Products
plt.figure(figsize=(10, 6))
sns.histplot(products_df['Price'], kde=True, bins=15, color='purple')
plt.title('Price Distribution of Products')
plt.xlabel('Price')
plt.ylabel('Frequency')
plt.grid()
plt.show()
